{
 "cells": [
  {
   "cell_type": "code",
   "execution_count": 2,
   "id": "99f46f11",
   "metadata": {},
   "outputs": [],
   "source": [
    "import requests \n",
    "import pandas as pd\n",
    "from datetime import datetime,date "
   ]
  },
  {
   "cell_type": "code",
   "execution_count": 5,
   "id": "40b66be2",
   "metadata": {},
   "outputs": [
    {
     "data": {
      "text/plain": [
       "\"\\n    Fetches historical cryptocurrency data from the CoinGecko API.\\n   \\n   \\n    Parameters:\\n    \\n    -crypto_pair (str): The cryptocurrency pair to fetch data for, e.g., 'bitcoin'.\\n    start_date (str): The start date for the data in 'YYYY-MM-DD' format.\\n    \\n    returns:\\n    - pd.DataFrame: A DataFrame containing the historical data with columns for date, open    \\n        \\n    \""
      ]
     },
     "execution_count": 5,
     "metadata": {},
     "output_type": "execute_result"
    }
   ],
   "source": [
    "\"\"\"\n",
    "    Fetches historical cryptocurrency data from the CoinGecko API.\n",
    "   \n",
    "   \n",
    "    Parameters:\n",
    "    \n",
    "    -crypto_pair (str): The cryptocurrency pair to fetch data for, e.g., 'bitcoin'.\n",
    "    start_date (str): The start date for the data in 'YYYY-MM-DD' format.\n",
    "    \n",
    "    returns:\n",
    "    - pd.DataFrame: A DataFrame containing the historical data with columns for date, open    \n",
    "        \n",
    "    \"\"\""
   ]
  },
  {
   "cell_type": "code",
   "execution_count": null,
   "metadata": {},
   "outputs": [],
   "source": []
  },
  {
   "cell_type": "code",
   "execution_count": null,
   "id": "ef0f4db5",
   "metadata": {},
   "outputs": [],
   "source": []
  },
  {
   "cell_type": "code",
   "execution_count": null,
   "id": "c48ba4a3",
   "metadata": {},
   "outputs": [],
   "source": []
  },
  {
   "cell_type": "code",
   "execution_count": null,
   "id": "2b719279",
   "metadata": {},
   "outputs": [],
   "source": []
  },
  {
   "cell_type": "code",
   "execution_count": null,
   "id": "2896104e",
   "metadata": {},
   "outputs": [],
   "source": []
  },
  {
   "cell_type": "code",
   "execution_count": null,
   "id": "086b2661",
   "metadata": {},
   "outputs": [],
   "source": []
  },
  {
   "cell_type": "code",
   "execution_count": null,
   "id": "2b72d65d",
   "metadata": {},
   "outputs": [],
   "source": []
  },
  {
   "cell_type": "code",
   "execution_count": null,
   "id": "14efd8ca",
   "metadata": {},
   "outputs": [],
   "source": []
  },
  {
   "cell_type": "code",
   "execution_count": null,
   "id": "f18932c0",
   "metadata": {},
   "outputs": [],
   "source": []
  },
  {
   "cell_type": "code",
   "execution_count": null,
   "id": "aeb643dc",
   "metadata": {},
   "outputs": [],
   "source": []
  }
 ],
 "metadata": {
  "kernelspec": {
   "display_name": "base",
   "language": "python",
   "name": "python3"
  },
  "language_info": {
   "codemirror_mode": {
    "name": "ipython",
    "version": 3
   },
   "file_extension": ".py",
   "mimetype": "text/x-python",
   "name": "python",
   "nbconvert_exporter": "python",
   "pygments_lexer": "ipython3",
   "version": "3.12.7"
  }
 },
 "nbformat": 4,
 "nbformat_minor": 5
}
