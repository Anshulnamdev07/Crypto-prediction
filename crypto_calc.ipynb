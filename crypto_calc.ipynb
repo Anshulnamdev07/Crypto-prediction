{
 "cells": [
  {
   "cell_type": "code",
   "execution_count": 19,
   "id": "99f46f11",
   "metadata": {},
   "outputs": [],
   "source": [
    "import requests \n",
    "import pandas as pd\n",
    "from datetime import datetime,date "
   ]
  },
  {
   "cell_type": "code",
   "execution_count": 20,
   "id": "c48ba4a3",
   "metadata": {},
   "outputs": [
    {
     "name": "stdout",
     "output_type": "stream",
     "text": [
      "           Date           Open           High            Low          Close\n",
      "0    2024-07-07   58230.484154   58230.484154   58230.484154   58230.484154\n",
      "1    2024-07-08   55880.375378   55880.375378   55880.375378   55880.375378\n",
      "2    2024-07-09   56665.140734   56665.140734   56665.140734   56665.140734\n",
      "3    2024-07-10   57988.303512   57988.303512   57988.303512   57988.303512\n",
      "4    2024-07-11   57704.202284   57704.202284   57704.202284   57704.202284\n",
      "..          ...            ...            ...            ...            ...\n",
      "356  2025-06-28  107078.915606  107078.915606  107078.915606  107078.915606\n",
      "357  2025-06-29  107331.585485  107331.585485  107331.585485  107331.585485\n",
      "358  2025-06-30  108396.616313  108396.616313  108396.616313  108396.616313\n",
      "359  2025-07-01  107132.799107  107132.799107  107132.799107  107132.799107\n",
      "360  2025-07-02  105613.399742  105613.399742  105613.399742  105613.399742\n",
      "\n",
      "[361 rows x 5 columns]\n"
     ]
    }
   ],
   "source": [
    "def fetch_crypto_data(crypto_pair: str, start_date: str) -> pd.DataFrame:\n",
    "    \"\"\"\n",
    "    Fetches historical cryptocurrency data from the CoinGecko API.\n",
    "    \n",
    "    Parameters:\n",
    "    - crypto_pair (str): The cryptocurrency pair to fetch data for (e.g., \"bitcoin/usd\").\n",
    "    - start_date (str): The start date for fetching historical data in 'YYYY-MM-DD' format.\n",
    "    \n",
    "    Returns:\n",
    "    - pd.DataFrame: A DataFrame containing historical price data with columns: Date, Open, High, Low, Close.\n",
    "    \"\"\"\n",
    "    \n",
    "    # Split the crypto_pair into its components: crypto_id and currency\n",
    "    crypto_id, currency = crypto_pair.split('/')\n",
    "    \n",
    "    # Convert the start date to a UNIX timestamp\n",
    "    start_timestamp = int(datetime.strptime(start_date, '%Y-%m-%d').timestamp())\n",
    "    \n",
    "    # Construct the API URL for fetching market chart data within a specific date range\n",
    "    url = f\"https://api.coingecko.com/api/v3/coins/{crypto_id}/market_chart/range\"\n",
    "    \n",
    "    # Set up parameters for the API request\n",
    "    params = {\n",
    "        'vs_currency': currency.lower(),  # The currency to compare against (e.g., 'usd')\n",
    "        'from': start_timestamp,           # Start timestamp\n",
    "        'to': int(datetime.now().timestamp()),  # Current timestamp\n",
    "    }\n",
    "    \n",
    "    # Send a GET request to the CoinGecko API\n",
    "    response = requests.get(url, params=params)\n",
    "    \n",
    "    # Check if the response status is not OK (200)\n",
    "    if response.status_code != 200:\n",
    "        raise Exception(f\"Error fetching data: {response.status_code} - {response.text}\")\n",
    "\n",
    "    # Parse the JSON response\n",
    "    data = response.json()\n",
    "\n",
    "    # Check if 'prices' are present in the response data\n",
    "    if 'prices' not in data:\n",
    "        raise Exception(\"No price data found in the response.\")\n",
    "\n",
    "    # Create a DataFrame from the price data (timestamps and closing prices)\n",
    "    df = pd.DataFrame(data['prices'], columns=['timestamp', 'close'])\n",
    "    \n",
    "    # Convert the timestamp from milliseconds to a date format and add it to the DataFrame\n",
    "    df['Date'] = pd.to_datetime(df['timestamp'], unit='ms').dt.date\n",
    "    \n",
    "    # Initialize Open, High, Low, and Close columns with closing prices\n",
    "    df['Open'] = df['close']\n",
    "    df['High'] = df['close']\n",
    "    df['Low'] = df['close']\n",
    "    df['Close'] = df['close']\n",
    "\n",
    "    # Group the DataFrame by date and aggregate the Open, High, Low, and Close values\n",
    "    df = df.groupby('Date').agg({\n",
    "        'Open': 'first',  # First entry for Open price\n",
    "        'High': 'max',    # Maximum price for High\n",
    "        'Low': 'min',     # Minimum price for Low\n",
    "        'Close': 'last'   # Last entry for Close price\n",
    "    }).reset_index()\n",
    "\n",
    "    return df\n",
    "\n",
    "# Example usage\n",
    "if __name__ == \"__main__\":\n",
    "    crypto_pair = \"bitcoin/usd\"\n",
    "    \n",
    "    from datetime import timedelta\n",
    "    start_date = (datetime.today() - timedelta(days=360)).strftime('%Y-%m-%d')\n",
    "\n",
    "    try:\n",
    "        crypto_data = fetch_crypto_data(crypto_pair, start_date)\n",
    "        print(crypto_data)\n",
    "    except Exception as e:\n",
    "        print(e)\n"
   ]
  },
  {
   "cell_type": "code",
   "execution_count": null,
   "id": "2896104e",
   "metadata": {},
   "outputs": [],
   "source": []
  },
  {
   "cell_type": "code",
   "execution_count": null,
   "id": "086b2661",
   "metadata": {},
   "outputs": [],
   "source": []
  },
  {
   "cell_type": "code",
   "execution_count": null,
   "id": "2b72d65d",
   "metadata": {},
   "outputs": [],
   "source": []
  },
  {
   "cell_type": "code",
   "execution_count": null,
   "id": "14efd8ca",
   "metadata": {},
   "outputs": [],
   "source": []
  },
  {
   "cell_type": "code",
   "execution_count": null,
   "id": "f18932c0",
   "metadata": {},
   "outputs": [],
   "source": []
  },
  {
   "cell_type": "code",
   "execution_count": null,
   "id": "aeb643dc",
   "metadata": {},
   "outputs": [],
   "source": []
  }
 ],
 "metadata": {
  "kernelspec": {
   "display_name": "base",
   "language": "python",
   "name": "python3"
  },
  "language_info": {
   "codemirror_mode": {
    "name": "ipython",
    "version": 3
   },
   "file_extension": ".py",
   "mimetype": "text/x-python",
   "name": "python",
   "nbconvert_exporter": "python",
   "pygments_lexer": "ipython3",
   "version": "3.12.7"
  }
 },
 "nbformat": 4,
 "nbformat_minor": 5
}
